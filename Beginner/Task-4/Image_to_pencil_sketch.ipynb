{
 "cells": [
  {
   "cell_type": "markdown",
   "id": "91b0503c",
   "metadata": {},
   "source": [
    "\n",
    "## DATA SCIENCE INTERNSHIP LET'S GROW MORE\n",
    "\n",
    "## BEGINNER TASK\n",
    "\n",
    "## Task 4:Image to Pencil Sketch by OpenCV"
   ]
  },
  {
   "cell_type": "code",
   "execution_count": 1,
   "id": "00270c93",
   "metadata": {},
   "outputs": [],
   "source": [
    "import cv2"
   ]
  },
  {
   "cell_type": "code",
   "execution_count": 2,
   "id": "b842c213",
   "metadata": {},
   "outputs": [
    {
     "data": {
      "text/plain": [
       "-1"
      ]
     },
     "execution_count": 2,
     "metadata": {},
     "output_type": "execute_result"
    }
   ],
   "source": [
    "image=cv2.imread('tiger.jpeg')\n",
    "cv2.imshow(\"Tiger\",image)\n",
    "cv2.waitKey(0)"
   ]
  },
  {
   "cell_type": "markdown",
   "id": "4a806482",
   "metadata": {},
   "source": [
    "Now after reading the image, let's create a new image by converting the original image to greyscale"
   ]
  },
  {
   "cell_type": "code",
   "execution_count": 3,
   "id": "50eeafb3",
   "metadata": {},
   "outputs": [
    {
     "data": {
      "text/plain": [
       "-1"
      ]
     },
     "execution_count": 3,
     "metadata": {},
     "output_type": "execute_result"
    }
   ],
   "source": [
    "gray_image = cv2.cvtColor(image, cv2.COLOR_BGR2GRAY)\n",
    "cv2.imshow(\"new_tiger\", gray_image)\n",
    "cv2.waitKey(0)"
   ]
  },
  {
   "cell_type": "markdown",
   "id": "381daaea",
   "metadata": {},
   "source": [
    "Now the next step is to invert the new grayscale image"
   ]
  },
  {
   "cell_type": "code",
   "execution_count": 4,
   "id": "03344ffd",
   "metadata": {},
   "outputs": [
    {
     "data": {
      "text/plain": [
       "-1"
      ]
     },
     "execution_count": 4,
     "metadata": {},
     "output_type": "execute_result"
    }
   ],
   "source": [
    "inverted_image = 255 - gray_image\n",
    "cv2.imshow(\"Inverted\", inverted_image)\n",
    "cv2.waitKey()"
   ]
  },
  {
   "cell_type": "markdown",
   "id": "1a365de1",
   "metadata": {},
   "source": [
    "Next step in the process is to blur the image by using the Gaussian Function in OpenCV"
   ]
  },
  {
   "cell_type": "code",
   "execution_count": 5,
   "id": "30f63e5f",
   "metadata": {},
   "outputs": [],
   "source": [
    "blurred = cv2.GaussianBlur(inverted_image, (21, 21), 0)"
   ]
  },
  {
   "cell_type": "code",
   "execution_count": 6,
   "id": "2c141c91",
   "metadata": {},
   "outputs": [
    {
     "data": {
      "text/plain": [
       "-1"
      ]
     },
     "execution_count": 6,
     "metadata": {},
     "output_type": "execute_result"
    }
   ],
   "source": [
    "inverted_blurred = 255 - blurred\n",
    "pencil_sketch = cv2.divide(gray_image, inverted_blurred, scale=256.0)\n",
    "cv2.imshow(\"Sketch\", pencil_sketch)\n",
    "cv2.waitKey(0)"
   ]
  },
  {
   "cell_type": "code",
   "execution_count": null,
   "id": "ca43a901",
   "metadata": {},
   "outputs": [],
   "source": [
    "cv2.imshow(\"original image\", image)\n",
    "cv2.imshow(\"pencil sketch\", pencil_sketch)\n",
    "cv2.waitKey(0)"
   ]
  },
  {
   "cell_type": "code",
   "execution_count": null,
   "id": "cc9cf45f",
   "metadata": {},
   "outputs": [],
   "source": []
  },
  {
   "cell_type": "code",
   "execution_count": null,
   "id": "a31d3314",
   "metadata": {},
   "outputs": [],
   "source": [
    "cv2.imwrite(\"pencil_sketch.jpeg\",pencil_sketch)"
   ]
  }
 ],
 "metadata": {
  "kernelspec": {
   "display_name": "Python 3 (ipykernel)",
   "language": "python",
   "name": "python3"
  },
  "language_info": {
   "codemirror_mode": {
    "name": "ipython",
    "version": 3
   },
   "file_extension": ".py",
   "mimetype": "text/x-python",
   "name": "python",
   "nbconvert_exporter": "python",
   "pygments_lexer": "ipython3",
   "version": "3.9.13"
  }
 },
 "nbformat": 4,
 "nbformat_minor": 5
}
